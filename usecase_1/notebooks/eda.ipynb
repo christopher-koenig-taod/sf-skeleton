{
 "cells": [
  {
   "cell_type": "markdown",
   "metadata": {},
   "source": [
    "### Beispiel für eine Notebook EDA"
   ]
  },
  {
   "cell_type": "code",
   "execution_count": null,
   "metadata": {},
   "outputs": [],
   "source": [
    "import os\n",
    "from snowflake.snowpark.session import Session\n",
    "from snowflake.snowpark.functions import collect_set, array_to_string, lit\n",
    "\n",
    "# Set pandas option to display all columns\n",
    "\n",
    "# Get credentials from environment variables\n",
    "SNOWFLAKE_USER = os.getenv(\"SNOWFLAKE_USER\")\n",
    "SNOWFLAKE_PASSWORD = os.getenv(\"SNOWFLAKE_PASSWORD\")\n",
    "SNOWFLAKE_WAREHOUSE = os.getenv(\"SNOWFLAKE_WAREHOUSE\")\n",
    "SNOWFLAKE_ACCOUNT = os.getenv(\"SNOWFLAKE_ACCOUNT\")\n",
    "\n",
    "# Create a connection to Snowflake\n",
    "connection_parameters = {\n",
    "    \"account\": SNOWFLAKE_ACCOUNT,\n",
    "    \"user\": SNOWFLAKE_USER,\n",
    "    \"password\": SNOWFLAKE_PASSWORD,\n",
    "    \"warehouse\": SNOWFLAKE_WAREHOUSE,\n",
    "    \"database\": \"\",\n",
    "    \"schema\": \"\",\n",
    "    \"role\": \"\",\n",
    "}\n",
    "\n",
    "# Create a session\n",
    "session = Session.builder.configs(connection_parameters).create()"
   ]
  },
  {
   "cell_type": "markdown",
   "metadata": {},
   "source": [
    "### Nutzungsarten"
   ]
  },
  {
   "cell_type": "code",
   "execution_count": null,
   "metadata": {},
   "outputs": [],
   "source": [
    "sdf = session.table(\"\")\n",
    "sdf.show()"
   ]
  },
  {
   "cell_type": "code",
   "execution_count": null,
   "metadata": {},
   "outputs": [],
   "source": [
    "df = session.sql(\n",
    "    \"SELECT * FROM\"\n",
    ").toPandas()"
   ]
  }
 ],
 "metadata": {
  "kernelspec": {
   "display_name": "agk-ds",
   "language": "python",
   "name": "python3"
  },
  "language_info": {
   "codemirror_mode": {
    "name": "ipython",
    "version": 3
   },
   "file_extension": ".py",
   "mimetype": "text/x-python",
   "name": "python",
   "nbconvert_exporter": "python",
   "pygments_lexer": "ipython3",
   "version": "3.11.9"
  }
 },
 "nbformat": 4,
 "nbformat_minor": 2
}
